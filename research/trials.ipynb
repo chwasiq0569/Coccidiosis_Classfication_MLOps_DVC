{
 "cells": [
  {
   "cell_type": "code",
   "execution_count": null,
   "metadata": {},
   "outputs": [],
   "source": []
  }
 ],
 "metadata": {
  "kernelspec": {
   "display_name": "Python 3.11.5 ('chicken')",
   "language": "python",
   "name": "python3"
  },
  "language_info": {
   "name": "python",
   "version": "3.11.5"
  },
  "orig_nbformat": 4,
  "vscode": {
   "interpreter": {
    "hash": "fc3bec0f8a4fec419ea60fcd59ebb7a7ae1d3ae3191fff333e22bb97b59725ce"
   }
  }
 },
 "nbformat": 4,
 "nbformat_minor": 2
}
